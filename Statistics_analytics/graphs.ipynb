{
 "cells": [
  {
   "cell_type": "markdown",
   "id": "8cec18bb-47a9-4cf1-b92b-57f635e7035d",
   "metadata": {
    "tags": []
   },
   "source": [
    "# Processing and analysis of data for meteor detection\n",
    "## GRAPHS - Setting up the working environment for data analytics"
   ]
  },
  {
   "cell_type": "markdown",
   "id": "91653e05-981c-4861-906e-78870ef8a94d",
   "metadata": {},
   "source": [
    "This command is used to install the Python packages matplotlib and pandas, which are commonly used for data visualization and data manipulation tasks."
   ]
  },
  {
   "cell_type": "code",
   "execution_count": null,
   "id": "f4037190-cc26-41a8-8fd4-bac02437c2f9",
   "metadata": {},
   "outputs": [],
   "source": [
    "pip install matplotlib pandas"
   ]
  },
  {
   "cell_type": "markdown",
   "id": "160f6252-c2e1-4ca9-9166-88da3a93fd1e",
   "metadata": {},
   "source": [
    "1. Graph - BOX PLOT\n",
    "\n",
    "Loads data from a CSV file into a Pandas DataFrame, defines the order of categories, creates and displays a box plot to show the distribution of echo lengths for different types, adding mean values to the plot."
   ]
  },
  {
   "cell_type": "code",
   "execution_count": null,
   "id": "ec8e27d6-3ac3-4fca-ac42-eff6f059fc10",
   "metadata": {},
   "outputs": [],
   "source": [
    "import seaborn as sns\n",
    "import matplotlib.pyplot as plt\n",
    "import numpy as np\n",
    "import pandas as pd\n",
    "\n",
    "\n",
    "df = pd.read_csv('testing5_1.csv')\n",
    "\n",
    "\n",
    "desired_order = ['dlhá bez headecha', 'dlhá s headechom', 'krátka bez headecha', 'krátka s headechom', ]\n",
    "\n",
    "\n",
    "plt.figure(figsize=(10, 8))\n",
    "sns.boxplot(x='label', y='length_in_sec', data=df, order=desired_order)\n",
    "plt.xlabel('Typ ozveny')\n",
    "plt.ylabel('Dĺžka ozveny (s)')\n",
    "plt.title('Rozloženie dĺžok ozvien pre jednotlivé typy')\n",
    "plt.xticks(rotation=45)\n",
    "\n",
    "\n",
    "plt.ylim(0, 8)  \n",
    "plt.yticks(np.arange(0, 7.28, 0.25))  \n",
    "plt.grid(axis='y', linestyle='--', alpha=0.7)\n",
    "\n",
    "means = df.groupby('label')['length_in_sec'].mean().values\n",
    "for i, mean in enumerate(means):\n",
    "    plt.text(i, mean + 0.1, f'Priemer: {mean:.2f}', ha='center', va='bottom', fontsize=8, color='blue')\n",
    "    plt.plot([i - 0.2, i + 0.2], [mean, mean], color='blue', linestyle='-', linewidth=2)\n",
    "\n",
    "\n",
    "plt.show()"
   ]
  },
  {
   "cell_type": "markdown",
   "id": "cc906bd1-9884-45d3-a37e-36e42fd5881a",
   "metadata": {},
   "source": [
    "2 Graph - BAR CHART\n",
    "\n",
    "Reads data from a CSV file into a Pandas DataFrame, converts dates to a date format, groups events by months, and displays these events using a bar chart. This chart is important for understanding the distribution of events over different months."
   ]
  },
  {
   "cell_type": "code",
   "execution_count": null,
   "id": "bcc80fd8-7ccc-4bd8-ab63-0620bd47cb82",
   "metadata": {},
   "outputs": [],
   "source": [
    "import pandas as pd\n",
    "import matplotlib.pyplot as plt\n",
    "\n",
    "df = pd.read_csv('testing5_1.csv')\n",
    "\n",
    "df['date'] = pd.to_datetime(df['date'], format='%d.%m.%Y')\n",
    "\n",
    "events_by_month_grouped = df.groupby([df['date'].dt.strftime('%B'), 'label']).size().unstack(fill_value=0)\n",
    "\n",
    "months_order = ['January', 'February', 'March', 'April', 'May', 'June', 'July', 'August']\n",
    "\n",
    "plt.figure(figsize=(12, 8))\n",
    "colors = ['#1f77b4', '#ff7f0e', '#2ca02c', '#d62728']  \n",
    "events_by_month_grouped.loc[months_order].plot(kind='bar', stacked=True, color=colors)\n",
    "plt.title('Rozloženie udalostí podľa mesiaca a skupiny')\n",
    "plt.xlabel('Mesiace')\n",
    "plt.ylabel('Počet udalostí')\n",
    "plt.grid(axis='y', linestyle='--', alpha=0.7)\n",
    "plt.xticks(rotation=45)\n",
    "plt.legend(title='Skupina')\n",
    "plt.tight_layout()\n",
    "plt.show()"
   ]
  },
  {
   "cell_type": "markdown",
   "id": "868a0713-c8c3-4539-b0d9-20e3043dcef6",
   "metadata": {},
   "source": [
    "3. Graph - PIE CHARTS\n",
    "\n",
    "Reads data from a CSV file into a Pandas DataFrame, creates pie charts to show the distribution of echo counts over hours for different types of echoes, and prints the echo counts for each hour. These charts are essential for visualizing the hourly distribution of echo counts and identifying patterns."
   ]
  },
  {
   "cell_type": "code",
   "execution_count": null,
   "id": "e72acdf1-89db-4f09-a98e-0d3dece990d1",
   "metadata": {},
   "outputs": [],
   "source": [
    "import matplotlib.pyplot as plt\n",
    "import pandas as pd\n",
    "\n",
    "\n",
    "df = pd.read_csv('testing5_1.csv')\n",
    "\n",
    "\n",
    "df['hour'] = pd.to_datetime(df['picture_ends_in']).dt.hour\n",
    "\n",
    "\n",
    "labels = ['dlhá bez headecha', 'dlhá s headechom', 'krátka bez headecha', 'krátka s headechom']\n",
    "\n",
    "fig, axs = plt.subplots(2, 2, figsize=(24, 20))\n",
    "axs = axs.flatten()\n",
    "\n",
    "\n",
    "for i, label in enumerate(labels):\n",
    "\n",
    "    subset = df[df['label'] == label]\n",
    "\n",
    "    counts = subset['hour'].value_counts().sort_index()\n",
    "\n",
    "    axs[i].pie(counts, labels=counts.index, autopct='%1.1f%%', startangle=90)\n",
    "    axs[i].set_title(label)\n",
    "    axs[i].set_xlabel('Hodina')\n",
    "    axs[i].set_ylabel('')\n",
    "    \n",
    "\n",
    "    print(f'Výsledky pre skupinu ozvien: {label}')\n",
    "    for hour, count in counts.items():\n",
    "        print(f'Hodina {hour}:00 - {hour}:59 - Počet ozvien: {count}')\n",
    "\n",
    "plt.suptitle('Distribúcia počtu ozvien v priebehu hodín pre jednotlivé typy ozvien', y=1.05)\n",
    "plt.tight_layout()\n",
    "plt.show()"
   ]
  }
 ],
 "metadata": {
  "kernelspec": {
   "display_name": "Python 3 (ipykernel)",
   "language": "python",
   "name": "python3"
  },
  "language_info": {
   "codemirror_mode": {
    "name": "ipython",
    "version": 3
   },
   "file_extension": ".py",
   "mimetype": "text/x-python",
   "name": "python",
   "nbconvert_exporter": "python",
   "pygments_lexer": "ipython3",
   "version": "3.10.6"
  }
 },
 "nbformat": 4,
 "nbformat_minor": 5
}
