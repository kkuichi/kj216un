{
 "cells": [
  {
   "cell_type": "markdown",
   "id": "df655ed6-ec2f-47f4-b8be-0ca025afb64e",
   "metadata": {
    "tags": []
   },
   "source": [
    "# Processing and analysis of data for meteor detection\n",
    "## TESTING - Setting up the working environment for data testing"
   ]
  },
  {
   "cell_type": "markdown",
   "id": "6802c597-cc45-4a5c-880f-4d2b6de27a33",
   "metadata": {},
   "source": [
    "This command upgrades the ultralytics package to the latest version - what is needed before next steps."
   ]
  },
  {
   "cell_type": "code",
   "execution_count": null,
   "id": "2d32d3e9-f827-4008-804a-87f65f4e6164",
   "metadata": {},
   "outputs": [],
   "source": [
    "pip install --upgrade ultralytics "
   ]
  },
  {
   "cell_type": "markdown",
   "id": "bd1aaaae-3cf2-4af8-8814-5fca0a7d495f",
   "metadata": {},
   "source": [
    "Next command imports the YOLO module from the ultralytics package."
   ]
  },
  {
   "cell_type": "code",
   "execution_count": 1,
   "id": "c4a8582f-8697-4a3e-ac6c-7780b1127317",
   "metadata": {},
   "outputs": [],
   "source": [
    "from ultralytics import YOLO"
   ]
  },
  {
   "cell_type": "markdown",
   "id": "ebd68730-52fd-4468-82b9-f56695395bdb",
   "metadata": {},
   "source": [
    "This command imports the OpenCV library for computer vision tasks.\n",
    "\n",
    "The second line imports the Image module from the Python Imaging Library (PIL) for image processing."
   ]
  },
  {
   "cell_type": "code",
   "execution_count": 2,
   "id": "d7957347-0f61-436a-a809-4d30eca35940",
   "metadata": {},
   "outputs": [],
   "source": [
    "import cv2\n",
    "from PIL import Image"
   ]
  },
  {
   "cell_type": "markdown",
   "id": "76ea2dcd-4d57-4a32-90e2-60a63cc9602b",
   "metadata": {},
   "source": [
    "This command imports the PyTorch library for deep learning tasks.\n",
    "\n",
    "Second line imports the torchvision module, which provides utilities for working with PyTorch.\n",
    "\n",
    "Last command imports the os module, which provides functions for interacting with the operating system."
   ]
  },
  {
   "cell_type": "code",
   "execution_count": 1,
   "id": "11a64db3-4865-4878-af25-acfd6e0abd22",
   "metadata": {},
   "outputs": [],
   "source": [
    "import torch\n",
    "import torchvision\n",
    "import os"
   ]
  },
  {
   "cell_type": "markdown",
   "id": "b50c0028-c76f-4976-bf55-9558f7cbb2a7",
   "metadata": {},
   "source": [
    "### TESTING\n",
    "\n",
    "This command runs the YOLO object detection model in prediction mode with specified parameters."
   ]
  },
  {
   "cell_type": "code",
   "execution_count": null,
   "id": "e6b794b5-5624-427b-89d7-dd1bc22e8ed4",
   "metadata": {},
   "outputs": [],
   "source": [
    "!yolo task=detect mode=predict model=/home/jovyan/data/lightning/Kamila/ultralytics/runs/detect/train13/weights/best.pt source=/home/jovyan/data/lightning/Kamila/testovacia_all imgsz=608 iou=0.10 conf=0.10 save=True save_conf=True save_txt=True save_crop=False name=predict/ALL_608_c10iou10_ult_train_final"
   ]
  }
 ],
 "metadata": {
  "kernelspec": {
   "display_name": "Python 3 (ipykernel)",
   "language": "python",
   "name": "python3"
  },
  "language_info": {
   "codemirror_mode": {
    "name": "ipython",
    "version": 3
   },
   "file_extension": ".py",
   "mimetype": "text/x-python",
   "name": "python",
   "nbconvert_exporter": "python",
   "pygments_lexer": "ipython3",
   "version": "3.10.6"
  }
 },
 "nbformat": 4,
 "nbformat_minor": 5
}
