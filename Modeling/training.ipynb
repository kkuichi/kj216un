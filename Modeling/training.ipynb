{
 "cells": [
  {
   "cell_type": "markdown",
   "id": "d2b8aeb5-7c57-4a13-9df0-0723ccbdb5ae",
   "metadata": {
    "tags": []
   },
   "source": [
    "# Processing and analysis of data for meteor detection\n",
    "## TRAINING - Setting up the working environment for data processing"
   ]
  },
  {
   "cell_type": "markdown",
   "id": "b8c24502-770d-40eb-b7a4-7bd7d5fcb2a4",
   "metadata": {},
   "source": [
    "Installing the ultralytics package. It is used for machine learning and computer vision tasks.\n",
    "\n",
    "NOTE: In case of running scripts on Raspberry Pi 4, it's generally recommended to execute all installations through the terminal."
   ]
  },
  {
   "cell_type": "code",
   "execution_count": null,
   "id": "4efa1a5d-7029-483d-840e-c7effc9b69bf",
   "metadata": {},
   "outputs": [],
   "source": [
    "pip install ultralytics"
   ]
  },
  {
   "cell_type": "markdown",
   "id": "79830b87-4881-4058-b8b3-8072a69215d4",
   "metadata": {},
   "source": [
    "Cloning the ultralytics repository from the GitHub platform."
   ]
  },
  {
   "cell_type": "code",
   "execution_count": null,
   "id": "2bf9e892-c111-4b5e-9566-d8eeaf06db65",
   "metadata": {},
   "outputs": [],
   "source": [
    "!git clone https://github.com/ultralytics/ultralytics"
   ]
  },
  {
   "cell_type": "markdown",
   "id": "22018a39-64e8-4bea-998a-7a9ba5ed4344",
   "metadata": {},
   "source": [
    "The commands are used for navigating to the ultralytics folder and installing dependencies of this folder.\n",
    "\n",
    "The first command creates a folder named ultralytics, where all subsequent commands will be executed.\n",
    "\n",
    "The second command installs the ultralytics package into the current environment as an \"editable\" installation. This means that changes made to the repository's code will be immediately reflected in the installed version of the package."
   ]
  },
  {
   "cell_type": "code",
   "execution_count": null,
   "id": "9ae60722-3a7d-47c0-83db-1d9329934ce8",
   "metadata": {},
   "outputs": [],
   "source": [
    "%cd ultralytics\n",
    "%pip install -e '.[dev]'"
   ]
  },
  {
   "cell_type": "markdown",
   "id": "12ef8432-57d9-4c9a-b971-95e24e7c8ce5",
   "metadata": {},
   "source": [
    "This command imports the YOLO module from the ultralytics package."
   ]
  },
  {
   "cell_type": "code",
   "execution_count": 1,
   "id": "d430d608-cf4e-485d-89f3-507a927e10a3",
   "metadata": {},
   "outputs": [],
   "source": [
    "from ultralytics import YOLO"
   ]
  },
  {
   "cell_type": "markdown",
   "id": "c3ce2d60-d0ed-4fb1-9931-b609e4bfb670",
   "metadata": {},
   "source": [
    "Next command installs the torch and torchvision packages using the pip package manager."
   ]
  },
  {
   "cell_type": "code",
   "execution_count": null,
   "id": "1b55be1a-84ca-4622-93b9-343c809f50a7",
   "metadata": {},
   "outputs": [],
   "source": [
    "pip install torch torchvision"
   ]
  },
  {
   "cell_type": "markdown",
   "id": "e46362b8-3cd9-497f-931c-0b24f12a506c",
   "metadata": {},
   "source": [
    "### TRAINING\n",
    "\n",
    "This command trains a model using the specified data, configuration, and training parameters."
   ]
  },
  {
   "cell_type": "code",
   "execution_count": null,
   "id": "70490cae-db8e-4897-936a-480a92782ee4",
   "metadata": {},
   "outputs": [],
   "source": [
    "results = model.train(data=\"/home/jovyan/data/lightning/Kamila/ozveny.yaml\",\n",
    "                      model=\"/home/jovyan/data/lightning/Kamila/runs/detect/train/weights/best.pt\", \n",
    "                      epochs=200, batch=64,imgsz=640, hsv_s=0.8, hsv_v=0.6,lr0=0.001,fliplr=0.0,flipud=0.0, scale=0.0, mosaic=False)      "
   ]
  },
  {
   "cell_type": "markdown",
   "id": "783e8490-8f67-4839-90d8-eb51c2b51608",
   "metadata": {},
   "source": [
    "### VALIDATION\n",
    "This command executes validation on the model and stores the results with specified parameters."
   ]
  },
  {
   "cell_type": "code",
   "execution_count": null,
   "id": "1ed676e3-fff2-4e7e-9a55-8d365d1d80b5",
   "metadata": {},
   "outputs": [],
   "source": [
    "!yolo task=detect mode=val model=/home/jovyan/data/lightning/Kamila/ultralytics/runs/detect/train13/weights/best.pt name=/home/jovyan/data/lightning/Kamila/train_yolov8_10 data=/home/jovyan/data/lightning/Kamila/ozveny.yaml imgsz=608 rect=True plots=True iou=0.10 conf=0.10 split=val"
   ]
  },
  {
   "cell_type": "code",
   "execution_count": null,
   "id": "f21a9f64-79b5-41b6-8d1b-cc363740e456",
   "metadata": {},
   "outputs": [],
   "source": []
  }
 ],
 "metadata": {
  "kernelspec": {
   "display_name": "Python 3 (ipykernel)",
   "language": "python",
   "name": "python3"
  },
  "language_info": {
   "codemirror_mode": {
    "name": "ipython",
    "version": 3
   },
   "file_extension": ".py",
   "mimetype": "text/x-python",
   "name": "python",
   "nbconvert_exporter": "python",
   "pygments_lexer": "ipython3",
   "version": "3.10.6"
  }
 },
 "nbformat": 4,
 "nbformat_minor": 5
}
